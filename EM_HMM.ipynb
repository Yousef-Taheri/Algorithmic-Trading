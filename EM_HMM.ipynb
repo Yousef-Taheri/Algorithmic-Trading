{
  "nbformat": 4,
  "nbformat_minor": 0,
  "metadata": {
    "colab": {
      "name": "EM_HMM.ipynb",
      "provenance": [],
      "collapsed_sections": [],
      "toc_visible": true,
      "authorship_tag": "ABX9TyOKeeAU4vnUECS/hj1C1Nhd",
      "include_colab_link": true
    },
    "kernelspec": {
      "name": "python3",
      "display_name": "Python 3"
    }
  },
  "cells": [
    {
      "cell_type": "markdown",
      "metadata": {
        "id": "view-in-github",
        "colab_type": "text"
      },
      "source": [
        "<a href=\"https://colab.research.google.com/github/Yousef-Taheri/Algorithmic-Trading/blob/master/EM_HMM.ipynb\" target=\"_parent\"><img src=\"https://colab.research.google.com/assets/colab-badge.svg\" alt=\"Open In Colab\"/></a>"
      ]
    },
    {
      "cell_type": "code",
      "metadata": {
        "id": "CrXfIW51bgoX",
        "colab_type": "code",
        "colab": {}
      },
      "source": [
        "import numpy as np\n",
        "import matplotlib.pyplot as plt\n",
        "from scipy.stats import norm"
      ],
      "execution_count": 0,
      "outputs": []
    },
    {
      "cell_type": "markdown",
      "metadata": {
        "id": "8veh7iN0d_eH",
        "colab_type": "text"
      },
      "source": [
        "#Simulation"
      ]
    },
    {
      "cell_type": "code",
      "metadata": {
        "id": "66IHbzpOZKGw",
        "colab_type": "code",
        "colab": {}
      },
      "source": [
        "######### simulation function\n",
        "def simulFunc(params,n):\n",
        "  z=np.random.choice(len(params['lmbd']))\n",
        "  price=np.random.binomial(1,p=1-params['zprob'][z])*np.random.normal(scale=params['sigma'][z])\n",
        "  tt=np.floor( np.random.exponential(scale=1/params['lmbd'][z]))\n",
        "  latentZ=[z]\n",
        "  log_mid_price=[price]\n",
        "  time_between_trades=[tt]\n",
        "  for i in range(n-1):\n",
        "    z=np.random.choice(len(params['lmbd']),p=params['transition'][z])\n",
        "    price=np.random.binomial(1,p=1-params['zprob'][z])*np.random.normal(scale=params['sigma'][z])\n",
        "    tt=np.floor( np.random.exponential(scale=1/params['lmbd'][z])) #floor because the real data is censored\n",
        "    latentZ.append(z)\n",
        "    log_mid_price.append(price)\n",
        "    time_between_trades.append(tt)\n",
        "  return np.array(latentZ), np.array(log_mid_price), np.array(time_between_trades)\n"
      ],
      "execution_count": 0,
      "outputs": []
    },
    {
      "cell_type": "markdown",
      "metadata": {
        "id": "3QYsE6igeuIy",
        "colab_type": "text"
      },
      "source": [
        "## 2 regime simulation- PCP"
      ]
    },
    {
      "cell_type": "code",
      "metadata": {
        "id": "2_MHtrqT77nC",
        "colab_type": "code",
        "outputId": "25a917e6-ffe1-42c0-b0f4-d40cc066b443",
        "colab": {
          "base_uri": "https://localhost:8080/",
          "height": 388
        }
      },
      "source": [
        "params={'transition':[[.8,.2],[.43,.57]],\n",
        "        'lmbd':[1.37,0.14],\n",
        "        'zprob':[0.56,0.14],\n",
        "        'sigma':[.00029,.00063]}\n",
        "latentZ, log_mid_price, time_between_trades=simulFunc(params,200)\n",
        "price_process=1*np.exp(np.cumsum(log_mid_price))\n",
        "time_process=np.cumsum(time_between_trades)\n",
        "\n",
        "#plotting the sample price path\n",
        "plt.figure(figsize=(9,6))\n",
        "plt.scatter(time_process[latentZ==0],price_process[latentZ==0],s=80,marker='^')\n",
        "\n",
        "plt.scatter(time_process[latentZ==1],price_process[latentZ==1],s=80,marker='o')\n",
        "plt.xlabel(\"Time\")\n",
        "plt.grid()\n",
        "plt.ylabel(\"Price\");\n",
        "plt.legend(['regim 1','regim 2']);\n",
        "\n"
      ],
      "execution_count": 3,
      "outputs": [
        {
          "output_type": "display_data",
          "data": {
            "image/png": "[encoded data removed]",
            "text/plain": [
              "<Figure size 648x432 with 1 Axes>"
            ]
          },
          "metadata": {
            "tags": [],
            "needs_background": "light"
          }
        }
      ]
    },
    {
      "cell_type": "markdown",
      "metadata": {
        "id": "Kecmuu5KfHTc",
        "colab_type": "text"
      },
      "source": [
        "##4 regimes simulation- AMZN"
      ]
    },
    {
      "cell_type": "code",
      "metadata": {
        "id": "vC7qldmZWoPF",
        "colab_type": "code",
        "outputId": "fc5c12e2-cae9-4be8-87ea-f6e3628f6466",
        "colab": {
          "base_uri": "https://localhost:8080/",
          "height": 388
        }
      },
      "source": [
        "\n",
        "params={'transition':np.array([[79.88,3.05,0.04,17.03],\n",
        "                      [1.14,94.48,1.18,3.20],\n",
        "                      [3.05,18.64,75.95,2.36],\n",
        "                      [43.08,0.60,0.08,56.24]])/100,\n",
        "        'lmbd':[2.614,2.101,1.203,0.487],\n",
        "        'zprob':np.array([85.57,46.57,26.34,29.06])/100,\n",
        "        'sigma':np.array([1.810,2.931,11.480,2.496])*1e-4}\n",
        "latentZ, log_mid_price, time_between_trades=simulFunc(params,200)\n",
        "price_process=1*np.exp(np.cumsum(log_mid_price))\n",
        "time_process=np.cumsum(time_between_trades)\n",
        "\n",
        "#plotting\n",
        "marker_size=40\n",
        "plt.figure(figsize=(9,6))\n",
        "plt.scatter(time_process[latentZ==0],price_process[latentZ==0],alpha=.7,s=marker_size,marker='^')\n",
        "plt.scatter(time_process[latentZ==1],price_process[latentZ==1],alpha=.7,s=marker_size,marker='o')\n",
        "plt.scatter(time_process[latentZ==2],price_process[latentZ==2],alpha=.7,s=marker_size,marker='*')\n",
        "plt.scatter(time_process[latentZ==3],price_process[latentZ==3],alpha=.7,s=marker_size,marker=(4,1))\n",
        "plt.xlabel(\"Time\")\n",
        "plt.grid()\n",
        "plt.ylabel(\"Price\");\n",
        "plt.legend(['regim 1','regim 2','regim 3','regim 4']);\n",
        "\n"
      ],
      "execution_count": 4,
      "outputs": [
        {
          "output_type": "display_data",
          "data": {
            "image/png": "[encoded data removed]",
            "text/plain": [
              "<Figure size 648x432 with 1 Axes>"
            ]
          },
          "metadata": {
            "tags": [],
            "needs_background": "light"
          }
        }
      ]
    },
    {
      "cell_type": "markdown",
      "metadata": {
        "id": "VHp2gSMQGJuY",
        "colab_type": "text"
      },
      "source": [
        "#Estimation"
      ]
    },
    {
      "cell_type": "markdown",
      "metadata": {
        "id": "qMuVvO7aDllt",
        "colab_type": "text"
      },
      "source": [
        "##mixture density function"
      ]
    },
    {
      "cell_type": "code",
      "metadata": {
        "id": "c8Q1qA6zAq6c",
        "colab_type": "code",
        "colab": {}
      },
      "source": [
        "theta={'lmbd':.14,'zprob':.14,'sigma':.00063}\n",
        "def log_mixture_density(t,x,theta):\n",
        "  lmbd=theta['lmbd']\n",
        "  zprob=theta['zprob']\n",
        "  sigma=np.float64(theta['sigma'])\n",
        "  log_cencored_time=-lmbd*t+np.log((1-np.exp(-lmbd)))\n",
        "  log_log_price_revision= np.log(zprob) if x==0  else np.log(1-zprob)+norm.logpdf(x,scale=sigma)\n",
        "  return log_cencored_time+log_log_price_revision\n"
      ],
      "execution_count": 0,
      "outputs": []
    },
    {
      "cell_type": "code",
      "metadata": {
        "id": "wBKVJbKLIT6v",
        "colab_type": "code",
        "colab": {}
      },
      "source": [
        "def mixture_density(t,x,theta):\n",
        "  lmbd=theta['lmbd']\n",
        "  zprob=theta['zprob']\n",
        "  sigma=np.float64(theta['sigma'])\n",
        "  log_cencored_time=np.exp(-lmbd*t)*(1-np.exp(-lmbd))\n",
        "  log_log_price_revision= zprob if x==0  else (1-zprob)*norm.pdf(x=x,loc=0,scale=sigma)\n",
        "  return log_cencored_time*log_log_price_revision"
      ],
      "execution_count": 0,
      "outputs": []
    },
    {
      "cell_type": "markdown",
      "metadata": {
        "id": "4TQcRGdtC_jt",
        "colab_type": "text"
      },
      "source": [
        "##forward function"
      ]
    },
    {
      "cell_type": "code",
      "metadata": {
        "id": "yd_2f-GWaF31",
        "colab_type": "code",
        "colab": {}
      },
      "source": [
        "def alpha_forward(hmm_params,time,price):\n",
        "  nb_states=len(hmm_params['lmbd'])\n",
        "  theta=[{key: hmm_params[key][k] for key in ['lmbd','zprob','sigma']} for k in range(nb_states)]\n",
        "  alpha_old=[ np.exp(p)*mixture_density(time[0],price[0],theta[i]) for i,p in enumerate(hmm_params['log_initProb'])]\n",
        "  alpha_old=np.array(alpha_old,dtype=np.longfloat)\n",
        "  alpha_old=alpha_old/np.sum(alpha_old)\n",
        "  scles=[np.sum(alpha_old)] #initilizing scales\n",
        "  alpha_list=[alpha_old]\n",
        "  \n",
        "  tr_mat=np.exp(hmm_params['log_transition'],dtype=np.longfloat)\n",
        "  for t,x in zip(time[1:],price[1:]):\n",
        "    ll=[]\n",
        "    for i in range(nb_states):\n",
        "      s=0\n",
        "      for j in range(nb_states):\n",
        "        s=s+alpha_old[j]*tr_mat[j][i]*mixture_density(t,x,theta[i])\n",
        "      ll.append(s)\n",
        "    cc=np.sum(ll)\n",
        "    ll=ll/cc\n",
        "    scles.append(cc)\n",
        "    alpha_list.append(ll)\n",
        "    alpha_old=ll.copy()\n",
        "  return np.array(alpha_list),scles"
      ],
      "execution_count": 0,
      "outputs": []
    },
    {
      "cell_type": "markdown",
      "metadata": {
        "id": "RUTnXEfzDydM",
        "colab_type": "text"
      },
      "source": [
        "##backward function"
      ]
    },
    {
      "cell_type": "code",
      "metadata": {
        "id": "iGGYhy1oPZha",
        "colab_type": "code",
        "colab": {}
      },
      "source": [
        "def beta_backward(hmm_params,scales,time,price):\n",
        "  nb_states=len(hmm_params['lmbd'])\n",
        "  nb_samples=len(time)\n",
        "  theta=[{key: hmm_params[key][k] for key in ['lmbd','zprob','sigma']} for k in range(nb_states)]\n",
        "  #print(log_mixture_density(time[0],price[0],theta[0]))\n",
        "  beta_old=np.full(nb_states,1,dtype=np.longfloat)\n",
        "  #beta_old=beta_old/scales[-1]\n",
        "  beta_list=[beta_old]\n",
        "  #print(alpha_old)\n",
        "  tr_mat=np.exp(hmm_params['log_transition'],dtype=np.longfloat)\n",
        "  for k in range(2,nb_samples+1):\n",
        "    ll=[]\n",
        "    for i in range(nb_states):\n",
        "      s=0\n",
        "      for j in range(nb_states):\n",
        "        s=s+beta_old[j]*mixture_density(time[-k],price[-k],theta[j])*tr_mat[i][j]\n",
        "\n",
        "      #a=beta_old[0]*mixture_density(time[-k],price[-k],theta[0])*tr_mat[i][0]\n",
        "      #b=beta_old[1]*mixture_density(time[-k],price[-k],theta[1])*tr_mat[i][1]\n",
        "      #aprox=a+b\n",
        "      ll.append(s)\n",
        "    #print(\"avant\",ll)\n",
        "    ll=np.array(ll)/scales[-k]\n",
        "    #print(\"c\",scales[-k])\n",
        "    #print(\"apres\",ll)\n",
        "    beta_list.append(ll)\n",
        "    beta_old=ll.copy()\n",
        "\n",
        "  return np.array(beta_list)\n"
      ],
      "execution_count": 0,
      "outputs": []
    },
    {
      "cell_type": "markdown",
      "metadata": {
        "id": "0xo565J2EHnW",
        "colab_type": "text"
      },
      "source": [
        "## function for calculating $\\xi_{t,ij}$"
      ]
    },
    {
      "cell_type": "code",
      "metadata": {
        "id": "P5mcVnw2XFt_",
        "colab_type": "code",
        "colab": {}
      },
      "source": [
        "def log_epsilon(alphaMat,betaMat,time,price,hmm_params):\n",
        "  log_tr_mat=hmm_params['log_transition']\n",
        "  nb_states=len(hmm_params['lmbd'])\n",
        "  nb_samples=len(time)\n",
        "  theta=[{key: hmm_params[key][k] for key in ['lmbd','zprob','sigma']} for k in range(nb_states)]\n",
        "  log_eps_list=[]\n",
        "  for t in range(nb_samples-1):\n",
        "    ilst=[]\n",
        "    for i in range(nb_states):\n",
        "      jlst=[]\n",
        "      for j in range(nb_states):\n",
        "        eps=(np.log(alphaMat[t][i])\n",
        "          +log_tr_mat[i][j]\n",
        "          +log_mixture_density(time[t+1],price[t+1],theta[j])\n",
        "          +np.log(betaMat[-(t+1)][j]))#-log_seq_prob)\n",
        "        jlst.append(eps)\n",
        "      ilst.append(jlst)\n",
        "    log_eps_list.append(ilst)\n",
        "  return log_eps_list"
      ],
      "execution_count": 0,
      "outputs": []
    },
    {
      "cell_type": "code",
      "metadata": {
        "id": "dOEKKTmGeyg1",
        "colab_type": "code",
        "colab": {}
      },
      "source": [
        "def log_epsilon_numerator(alphaMat,betaMat,time,price,hmm_params):\n",
        "  log_tr_mat=hmm_params['log_transition']\n",
        "  nb_states=len(hmm_params['lmbd'])\n",
        "  nb_samples=len(time)\n",
        "  theta=[{key: hmm_params[key][k] for key in ['lmbd','zprob','sigma']} for k in range(nb_states)]\n",
        "  log_eps_list=[]\n",
        "  for t in range(nb_samples-1):\n",
        "    ilst=[]\n",
        "    for i in range(nb_states):\n",
        "      jlst=[]\n",
        "      for j in range(nb_states):\n",
        "        eps=(np.log(alphaMat[t][i])\n",
        "          +log_tr_mat[i][j]\n",
        "          +log_mixture_density(time[t+1],price[t+1],theta[j])\n",
        "          +np.log(betaMat[-(t+1)][j]))\n",
        "\n",
        "        jlst.append(eps)\n",
        "      \n",
        "      ilst.append(jlst)\n",
        "    log_eps_list.append(ilst)\n",
        "  \n",
        "  return log_eps_list\n"
      ],
      "execution_count": 0,
      "outputs": []
    },
    {
      "cell_type": "markdown",
      "metadata": {
        "id": "XQkqc4fQEzVh",
        "colab_type": "text"
      },
      "source": [
        "## log-liklihood function"
      ]
    },
    {
      "cell_type": "code",
      "metadata": {
        "id": "fhcUVvzmHvsE",
        "colab_type": "code",
        "colab": {}
      },
      "source": [
        "def log_liklihood(hmm_params,time,price,pj,pjk):\n",
        "  nb_states=len(hmm_params['lmbd'])\n",
        "  nb_samples=len(time)\n",
        "  theta=[{key: hmm_params[key][k] for key in ['lmbd','zprob','sigma']} for k in range(nb_states)]\n",
        "\n",
        "  term1=0\n",
        "  for t in range(nb_samples):\n",
        "    for j in range(nb_states):\n",
        "      term1=term1+log_mixture_density(time[t],price[t],theta[j])*np.exp(pj[t][j])\n",
        "  \n",
        "  log_tr_mat=hmm_params['log_transition']\n",
        "  term2=0\n",
        "  for t in range(nb_samples-1):\n",
        "    for j in range(nb_states):\n",
        "      for k in range(nb_states):\n",
        "        term2=term2+log_tr_mat[j][k]*np.exp(pjk[t][j][k])\n",
        "      \n",
        "  log_pi=hmm_params['log_initProb']\n",
        "  term3=0\n",
        "  for j in range(nb_states):\n",
        "    term3=term3+log_pi[j]*np.exp(pj[0][j])\n",
        "  \n",
        "  return term1+term2+term3\n"
      ],
      "execution_count": 0,
      "outputs": []
    },
    {
      "cell_type": "markdown",
      "metadata": {
        "id": "dAMC23xlFT8o",
        "colab_type": "text"
      },
      "source": [
        "## EM algorithm"
      ]
    },
    {
      "cell_type": "code",
      "metadata": {
        "id": "KxklGckrHM8v",
        "colab_type": "code",
        "colab": {}
      },
      "source": [
        "def EM(initParams,time,price,nb_iter,frq=100,verbose=False):\n",
        "  time=np.array(time)\n",
        "  price=np.array(price)\n",
        "  hmm_params=initParams.copy()\n",
        "  updated_params=initParams.copy()\n",
        "  logLike_list=[]\n",
        "  nb_states=len(hmm_params['lmbd'])\n",
        "  nb_samples=len(time)\n",
        "  mmm=[[0.2,.8],[0.8,0.2]]\n",
        "  loglike_old=0\n",
        "  for i in range(nb_iter):\n",
        "    alpha_mat,scales=alpha_forward(hmm_params,time,price)\n",
        "    beta_mat=beta_backward(hmm_params,scales,time,price)\n",
        "    log_eps_numer=log_epsilon_numerator(alpha_mat,beta_mat,time,price,hmm_params)\n",
        "    log_rtj=np.log(beta_mat[::-1]*alpha_mat) #[np.log(np.sum(np.exp(x),axis=1)) for x in log_eps_mat]\n",
        "    loglike=log_liklihood(hmm_params,time,price,log_rtj,log_eps_numer)\n",
        "    if np.abs(loglike_old-loglike)<1e-6:\n",
        "      break\n",
        "    loglike_old=loglike\n",
        "    logLike_list.append(loglike)\n",
        "    if verbose and i%frq==0:\n",
        "      print('iteration: ',i)\n",
        "      print('logliklihood: ',loglike)\n",
        "      param_copy=updated_params.copy()\n",
        "      param_copy['log_transition']=np.exp(param_copy['log_transition'])\n",
        "      param_copy['log_initProb']=np.exp(param_copy['log_initProb'])\n",
        "      print(param_copy)\n",
        "    #parameter update\n",
        "    for j in range(nb_states):\n",
        "      updated_params['lmbd'][j]=-np.log(np.sum(np.exp(log_rtj[:,j])*time)/np.sum(np.exp(log_rtj[:,j])*(time+1)))\n",
        "      updated_params['zprob'][j]= np.sum(np.exp(log_rtj[price==0,j]))/np.sum(np.exp(log_rtj[:,j]))\n",
        "      updated_params['sigma'][j]=np.sqrt( np.sum(np.exp(log_rtj[price!=0,j])*(price[price!=0]**2))/np.sum(np.exp(log_rtj[price!=0,j])))\n",
        "      for k in range(nb_states):\n",
        "        epssjk=np.exp([t[j][k] for t in log_eps_numer])\n",
        "        updated_params['log_transition'][j][k]=np.sum(epssjk)/np.sum(np.exp(log_rtj[0:nb_samples,j]))#np.sum(epssj)\n",
        "      updated_params['log_transition'][j]=np.sqrt(updated_params['log_transition'][j])#np.min(updated_params['log_transition'][j])\n",
        "      updated_params['log_transition'][j]=updated_params['log_transition'][j]/np.sum(updated_params['log_transition'][j])\n",
        "      updated_params['log_transition'][j]=np.log(updated_params['log_transition'][j])\n",
        "      updated_params['log_initProb'][j]=log_rtj[0,j]\n",
        "    \n",
        "    updated_params['log_initProb']=np.exp(updated_params['log_initProb']-np.mean(updated_params['log_initProb']))\n",
        "    updated_params['log_initProb']=np.sqrt(updated_params['log_initProb'])\n",
        "    updated_params['log_initProb']=updated_params['log_initProb']/np.sum(updated_params['log_initProb'])\n",
        "    updated_params['log_initProb']=np.log(updated_params['log_initProb'])\n",
        "    hmm_params=updated_params.copy()\n",
        "  return logLike_list, hmm_params\n",
        "\n",
        "    \n"
      ],
      "execution_count": 0,
      "outputs": []
    },
    {
      "cell_type": "markdown",
      "metadata": {
        "id": "xFtrYA0sFbBz",
        "colab_type": "text"
      },
      "source": [
        "## Runnig EM for 2 rgime market"
      ]
    },
    {
      "cell_type": "code",
      "metadata": {
        "id": "Lhvmirpppmmw",
        "colab_type": "code",
        "outputId": "33234706-7424-4774-ae28-679ed45a6228",
        "colab": {
          "base_uri": "https://localhost:8080/",
          "height": 1000
        }
      },
      "source": [
        "np.random.seed(1234)\n",
        "hmm_params1={'log_transition':np.log([[0.001,.999],[0.999,0.001]]),  \n",
        "            'lmbd':[1.47,.13],\n",
        "            'zprob':[0.6,0.1],\n",
        "            'log_initProb':np.log([.5,.5]),\n",
        "            'sigma':[0.00021,0.00061]}\n",
        "\n",
        "params={'transition':[[.8,.2],[.43,.57]],\n",
        "        'lmbd':[1.37,0.14],\n",
        "        'zprob':[0.56,0.14],\n",
        "        'sigma':[.00029,.00063]}\n",
        "\n",
        "\n",
        "latentZ, log_mid_price, time_between_trades=simulFunc(params,2000)\n",
        "loglike,params1=EM(hmm_params1,time_between_trades,log_mid_price,400,frq=1,verbose=True)"
      ],
      "execution_count": 0,
      "outputs": [
        {
          "output_type": "stream",
          "text": [
            "iteration:  0\n",
            "logliklihood:  -125887.554940174731435\n",
            "{'log_transition': array([[-6.90775528e+00, -1.00050033e-03],\n",
            "       [-1.00050033e-03, -6.90775528e+00]]), 'lmbd': [1.47, 0.13], 'zprob': [0.6, 0.1], 'log_initProb': array([-0.69314718, -0.69314718]), 'sigma': [0.00021, 0.00061]}\n",
            "iteration:  1\n",
            "logliklihood:  -52050.69071925110265\n",
            "{'log_transition': array([[-2.0411465 , -0.13912382],\n",
            "       [-0.01531733, -4.18641924]]), 'lmbd': [0.33363126953225204154, 1.586204284520313183], 'zprob': [0.2242728382376670518, 0.63030447300604444905], 'log_initProb': array([-2.61954379, -0.07562491]), 'sigma': [0.00044498074603660183074, 0.00022158650282685113806]}\n",
            "iteration:  2\n",
            "logliklihood:  -64509.919956342174537\n",
            "{'log_transition': array([[-1.54358941, -0.24030622],\n",
            "       [-0.12546609, -2.13779701]]), 'lmbd': [0.50716744552304996325, 1.0520563957905908442], 'zprob': [0.5257954412609486309, 0.48090755252541825843], 'log_initProb': array([-0.02324732, -3.77316672]), 'sigma': [0.00044058112642656647665, 0.00031797119728753748764]}\n",
            "iteration:  3\n",
            "logliklihood:  -68380.14863763746839\n",
            "{'log_transition': array([[-1.48486251, -0.2568729 ],\n",
            "       [-0.42803929, -1.05493749]]), 'lmbd': [0.3355831815434232315, 0.8872761927841058824], 'zprob': [0.41726113076430370864, 0.48092421624086986205], 'log_initProb': array([-0.02889403, -3.55853259]), 'sigma': [0.0005149130134042106149, 0.00036430514990371323887]}\n",
            "iteration:  4\n",
            "logliklihood:  -70903.95222728065025\n",
            "{'log_transition': array([[-1.3760261 , -0.29112839],\n",
            "       [-0.67843079, -0.70808339]]), 'lmbd': [0.2723191551324018864, 0.9820444182023759813], 'zprob': [0.37716258756941155555, 0.48785010533782379144], 'log_initProb': array([-0.02712495, -3.62083327]), 'sigma': [0.0005475288520286891036, 0.00035893590315642552206]}\n",
            "iteration:  5\n",
            "logliklihood:  -69258.05005679911683\n",
            "{'log_transition': array([[-1.35405243, -0.2986646 ],\n",
            "       [-0.88443316, -0.53264219]]), 'lmbd': [0.21600022422952233418, 1.1643756172959880935], 'zprob': [0.32141018216882308753, 0.50418016673272667954], 'log_initProb': array([-0.01126845, -4.49137764]), 'sigma': [0.0005851691509223448433, 0.00033859846758499703172]}\n",
            "iteration:  6\n",
            "logliklihood:  -64393.72408552193996\n",
            "{'log_transition': array([[-1.39532896, -0.28468859],\n",
            "       [-1.07925314, -0.41528706]]), 'lmbd': [0.17903567608493915284, 1.3145345914411794555], 'zprob': [0.2571633259007350687, 0.5193518122981980099], 'log_initProb': array([-2.24257135e-03, -6.10125322e+00]), 'sigma': [0.0006150769936333756342, 0.00032164544673378742233]}\n",
            "iteration:  7\n",
            "logliklihood:  -58607.18799459368287\n",
            "{'log_transition': array([[-1.43588663, -0.27168319],\n",
            "       [-1.24830425, -0.33826131]]), 'lmbd': [0.15831037747452362745, 1.3722082808800562932], 'zprob': [0.20510934576584017558, 0.5284010364112666358], 'log_initProb': array([-3.95016016e-04, -7.83678175e+00]), 'sigma': [0.00063468193048490829326, 0.00031309391909746948285]}\n",
            "iteration:  8\n",
            "logliklihood:  -53941.148949652606078\n",
            "{'log_transition': array([[-1.44479587, -0.26891816],\n",
            "       [-1.37492566, -0.29150054]]), 'lmbd': [0.14677970917988071867, 1.3675814706143238457], 'zprob': [0.17174996906863607759, 0.53203637822783433935], 'log_initProb': array([-1.09350931e-04, -9.12100297e+00]), 'sigma': [0.0006479442402226697727, 0.00031020645966879705972]}\n",
            "iteration:  9\n",
            "logliklihood:  -50737.654563425217216\n",
            "{'log_transition': array([[-1.42555368, -0.27493083],\n",
            "       [-1.46275221, -0.26344223]]), 'lmbd': [0.13979561687341949423, 1.3437676851185862324], 'zprob': [0.15192678935084705446, 0.5328430699627876244], 'log_initProb': array([-5.34466125e-05, -9.83685402e+00]), 'sigma': [0.00065781657094542886154, 0.00030983510631102097709]}\n",
            "iteration:  10\n",
            "logliklihood:  -48635.57673595180331\n",
            "{'log_transition': array([[-1.39117301, -0.28606113],\n",
            "       [-1.5237388 , -0.24576716]]), 'lmbd': [0.13525790082805603556, 1.3217646467879308983], 'zprob': [0.14011252521811902637, 0.5327234795635898195], 'log_initProb': array([-3.90055131e-05, -1.01518271e+01]), 'sigma': [0.0006653761713938804983, 0.0003101627451636193058]}\n",
            "iteration:  11\n",
            "logliklihood:  -47246.177258972039176\n",
            "{'log_transition': array([[-1.35169308, -0.2994871 ],\n",
            "       [-1.56803634, -0.23376743]]), 'lmbd': [0.13220851016610273079, 1.306866834211612731], 'zprob': [0.13290203752106097702, 0.5325349265044847755], 'log_initProb': array([-3.49942207e-05, -1.02603451e+01]), 'sigma': [0.00067112623406559674835, 0.00031042994994064242185]}\n",
            "iteration:  12\n",
            "logliklihood:  -46299.637454548009288\n",
            "{'log_transition': array([[-1.31263206, -0.31349342],\n",
            "       [-1.60204236, -0.22500102]]), 'lmbd': [0.13011950526937251419, 1.2984265231291208043], 'zprob': [0.12836007809033171307, 0.5325250251487809038], 'log_initProb': array([-3.39790306e-05, -1.02897840e+01]), 'sigma': [0.0006754847732006539339, 0.0003104344286620551718]}\n",
            "iteration:  13\n",
            "logliklihood:  -45628.784824281535666\n",
            "{'log_transition': array([[-1.27647025, -0.32714449],\n",
            "       [-1.6293868 , -0.2182179 ]]), 'lmbd': [0.12866061202910963466, 1.2944894688174388648], 'zprob': [0.12538535254537035975, 0.5327009266473155013], 'log_initProb': array([-3.35242508e-05, -1.03032582e+01]), 'sigma': [0.0006788153874156087239, 0.00031019864089126988253]}\n",
            "iteration:  14\n",
            "logliklihood:  -45133.48417029049687\n",
            "{'log_transition': array([[-1.2440641 , -0.33997308],\n",
            "       [-1.65208643, -0.21275968]]), 'lmbd': [0.12761800923116318977, 1.2933142894135449863], 'zprob': [0.12334873678161264934, 0.53300530790726314325], 'log_initProb': array([-3.28193046e-05, -1.03245101e+01]), 'sigma': [0.0006814019084339223424, 0.000309805423112323943]}\n",
            "iteration:  15\n",
            "logliklihood:  -44753.978480862245082\n",
            "{'log_transition': array([[-1.21550215, -0.3517742 ],\n",
            "       [-1.67129875, -0.20825831]]), 'lmbd': [0.1268533948685103328, 1.2936800017923103043], 'zprob': [0.121889804533040643524, 0.53337959768927221125], 'log_initProb': array([-3.17343811e-05, -1.03581258e+01]), 'sigma': [0.0006834492166890243756, 0.00030933340799174924726]}\n",
            "iteration:  16\n",
            "logliklihood:  -44454.11452050204606\n",
            "{'log_transition': array([[-1.19054812, -0.36248401],\n",
            "       [-1.68773776, -0.20449039]]), 'lmbd': [0.12627772254929242481, 1.2948207707558123624], 'zprob': [0.12080039923199870907, 0.5337802341046528381], 'log_initProb': array([-3.03925903e-05, -1.04013269e+01]), 'sigma': [0.0006850995839251418356, 0.00030883938775198658624]}\n",
            "iteration:  17\n",
            "logliklihood:  -44211.429439291936887\n",
            "{'log_transition': array([[-1.16885138, -0.37211299],\n",
            "       [-1.7018863 , -0.20130776]]), 'lmbd': [0.12583354982549067465, 1.296288933276288031], 'zprob': [0.11995821466916191736, 0.5341789403172150904], 'log_initProb': array([-2.89586022e-05, -1.04496577e+01]), 'sigma': [0.00068645085492189148564, 0.000308358739079567312]}\n",
            "iteration:  18\n",
            "logliklihood:  -44011.45835469290629\n",
            "{'log_transition': array([[-1.15004016, -0.38071014],\n",
            "       [-1.71410055, -0.1986042 ]]), 'lmbd': [0.1254834246962895174, 1.297837229715546574], 'zprob': [0.11928934140354588393, 0.53455900635365349193], 'log_initProb': array([-2.75580286e-05, -1.04992304e+01]), 'sigma': [0.00068757101897930152253, 0.0003079108426655142702]}\n",
            "iteration:  19\n",
            "logliklihood:  -43844.499200654723072\n",
            "{'log_transition': array([[-1.13376004, -0.3883439 ],\n",
            "       [-1.72466092, -0.19629896]]), 'lmbd': [0.12520246858096741472, 1.2993370577083544944], 'zprob': [0.11874737673011181249, 0.53491152904424707476], 'log_initProb': array([-2.62641735e-05, -1.05473179e+01]), 'sigma': [0.000688508412261874603, 0.0003075045562433365855]}\n",
            "iteration:  20\n",
            "logliklihood:  -43703.767322863595464\n",
            "{'log_transition': array([[-1.1196878 , -0.39509161],\n",
            "       [-1.73379764, -0.19432826]]), 'lmbd': [0.124973744381327133884, 1.3007271791069443587], 'zprob': [0.11830184260767682568, 0.53523256873377007093], 'log_initProb': array([-2.51094350e-05, -1.05922794e+01]), 'sigma': [0.0006892984063440270325, 0.0003071423671141798245]}\n",
            "iteration:  21\n",
            "logliklihood:  -43584.32712609964731\n",
            "{'log_transition': array([[-1.10753492, -0.40103347],\n",
            "       [-1.74170444, -0.1926404 ]]), 'lmbd': [0.124785397546493770086, 1.301983358910653772], 'zprob': [0.11793175476380823998, 0.5355212174354282523], 'log_initProb': array([-2.41004746e-05, -1.06332911e+01]), 'sigma': [0.0006899676662554586042, 0.00030682317804617964454]}\n",
            "iteration:  22\n",
            "logliklihood:  -43482.45921986233248\n",
            "{'log_transition': array([[-1.09704672, -0.40624881],\n",
            "       [-1.74854665, -0.19119281]]), 'lmbd': [0.12462889314872615837, 1.3031010334863287581], 'zprob': [0.11762201329877431392, 0.5357783485797550103], 'log_initProb': array([-2.32300754e-05, -1.06700744e+01]), 'sigma': [0.00069053684598886612974, 0.00030654404894797638882]}\n",
            "iteration:  23\n",
            "logliklihood:  -43395.274847729779438\n",
            "{'log_transition': array([[-1.0879999 , -0.41081383],\n",
            "       [-1.75446647, -0.18995   ]]), 'lmbd': [0.124497919320134453825, 1.3040856415273588195], 'zprob': [0.11736133346744998141, 0.536005826474206063], 'log_initProb': array([-2.24847545e-05, -1.07026843e+01]), 'sigma': [0.0006910223142801040904, 0.00030630123362224752194]}\n",
            "iteration:  24\n",
            "logliklihood:  -43320.473640796520566\n",
            "{'log_transition': array([[-1.08019957, -0.41480018],\n",
            "       [-1.7595868 , -0.18888219]]), 'lmbd': [0.12438769387809673324, 1.3049473124020754004], 'zprob': [0.11714102149950408887, 0.53620601261575620203], 'log_initProb': array([-2.18491024e-05, -1.07313616e+01]), 'sigma': [0.0006914372853307534987, 0.00030609077117151912854]}\n",
            "iteration:  25\n",
            "logliklihood:  -43256.186525153144157\n",
            "{'log_transition': array([[-1.07347613, -0.41827416],\n",
            "       [-1.76401412, -0.18796421]]), 'lmbd': [0.1242945162216142944, 1.3056979865393222908], 'zprob': [0.116954220981624396335, 0.5363814606869062662], 'log_initProb': array([-2.13080155e-05, -1.07564379e+01]), 'sigma': [0.00069179258225212935337, 0.00030590880715779023226]}\n",
            "iteration:  26\n",
            "logliklihood:  -43200.87057394031828\n",
            "{'log_transition': array([[-1.06768233, -0.4212964 ],\n",
            "       [-1.76784086, -0.18717471]]), 'lmbd': [0.12421547047127117497, 1.3063498821142148941], 'zprob': [0.11679542787571116224, 0.53653473123668519426], 'log_initProb': array([-2.08477056e-05, -1.07782771e+01]), 'sigma': [0.00069209716966675764545, 0.00030575175523338260905]}\n",
            "iteration:  27\n",
            "logliklihood:  -43153.236387939834284\n",
            "{'log_transition': array([[-1.0626906 , -0.42392172],\n",
            "       [-1.77114729, -0.18649547]]), 'lmbd': [0.12414822369512212767, 1.3069147058614427254], 'zprob': [0.116660164188501696626, 0.5366682825396535919], 'log_initProb': array([-2.04560486e-05, -1.07972422e+01]), 'sigma': [0.00069235853736983838357, 0.00030561636674855705982]}\n",
            "iteration:  28\n",
            "logliklihood:  -43112.19637094477735\n",
            "{'log_transition': array([[-1.05839054, -0.42619938],\n",
            "       [-1.77400315, -0.18591097]]), 'lmbd': [0.124090885285699759106, 1.3074032756623239972], 'zprob': [0.116544749195516062495, 0.53678441009393859906], 'log_initProb': array([-2.01226035e-05, -1.08136769e+01]), 'sigma': [0.00069258298493871140385, 0.0003054997486374295676]}\n",
            "iteration:  29\n",
            "logliklihood:  -43076.826764814258453\n",
            "{'log_transition': array([[-1.05468676, -0.42817327],\n",
            "       [-1.77646901, -0.18540791]]), 'lmbd': [0.12404190661270166669, 1.3078253707682127468], 'zprob': [0.116446133287791548745, 0.5368852171345950456], 'log_initProb': array([-1.98384813e-05, -1.08278969e+01]), 'sigma': [0.0006927758383808369097, 0.00030539935333541564301]}\n",
            "iteration:  30\n",
            "logliklihood:  -43046.338974365900658\n",
            "{'log_transition': array([[-1.05149684, -0.42988231],\n",
            "       [-1.77859745, -0.18497488]]), 'lmbd': [0.124000007831523371156, 1.3081897066753342696], 'zprob': [0.11636177373632483241, 0.53697260474391369383], 'log_initProb': array([-1.95961607e-05, -1.08401867e+01]), 'sigma': [0.00069294161873411608536, 0.00030531295459069017814]}\n",
            "iteration:  31\n",
            "logliklihood:  -43020.057327375853667\n",
            "{'log_transition': array([[-1.04874969, -0.43136086],\n",
            "       [-1.78043412, -0.1846021 ]]), 'lmbd': [0.123964123413074535396, 1.3085039763893090647], 'zprob': [0.11628953959742136125, 0.53704827408732069697], 'log_initProb': array([-1.93892955e-05, -1.08507991e+01]), 'sigma': [0.00069308417574721484833, 0.0003052386171658838728]}\n",
            "iteration:  32\n",
            "logliklihood:  -42997.40141295060011\n",
            "{'log_transition': array([[-1.04638397, -0.43263914],\n",
            "       [-1.78201859, -0.18428117]]), 'lmbd': [0.12393336085073040413, 1.3087749248024842433], 'zprob': [0.116227637545441078085, 0.5371137358610340131], 'log_initProb': array([-1.92125356e-05, -1.08599572e+01]), 'sigma': [0.00069320679554069397063, 0.00030517466495534076445]}\n",
            "iteration:  33\n",
            "logliklihood:  -42977.8717683277468\n",
            "{'log_transition': array([[-1.04434681, -0.43374363],\n",
            "       [-1.78338517, -0.18400487]]), 'lmbd': [0.12390696882366017639, 1.30900843711305429], 'zprob': [0.11617455314594895522, 0.53717032372262712953], 'log_initProb': array([-1.90613692e-05, -1.08678564e+01]), 'sigma': [0.0006933122884453110099, 0.0003051196499915280065]}\n",
            "iteration:  34\n",
            "logliklihood:  -42961.038083271606894\n",
            "{'log_transition': array([[-1.04259263, -0.43469748],\n",
            "       [-1.78456356, -0.18376697]]), 'lmbd': [0.12388431227131593369, 1.3092096304399819586], 'zprob': [0.116129003776582605805, 0.5372192095996387182], 'log_initProb': array([-1.89319879e-05, -1.08746670e+01]), 'sigma': [0.00069340306143792045415, 0.00030507232360480306176]}\n",
            "iteration:  35\n",
            "logliklihood:  -42946.529348522576218\n",
            "{'log_transition': array([[-1.04108215, -0.43552089],\n",
            "       [-1.78557949, -0.18356215]]), 'lmbd': [0.12386485260705523652, 1.3093829426233549557], 'zprob': [0.116089900496657187475, 0.5372614195266136355], 'log_initProb': array([-1.88211723e-05, -1.08805375e+01]), 'sigma': [0.0006934811784007352325, 0.00030503161029373673528]}\n",
            "iteration:  36\n",
            "logliklihood:  -42934.025542666931862\n",
            "{'log_transition': array([[-1.03978155, -0.43623143],\n",
            "       [-1.78645522, -0.18338579]]), 'lmbd': [0.12384813181660960776, 1.3095322150699322461], 'zprob': [0.116056316897409540075, 0.53729784916949584607], 'log_initProb': array([-1.87261966e-05, -1.08855965e+01]), 'sigma': [0.0006935484106081120897, 0.00030499658445725035123]}\n",
            "iteration:  37\n",
            "logliklihood:  -42923.25056284933385\n",
            "{'log_transition': array([[-1.03866168, -0.43684438],\n",
            "       [-1.78720997, -0.18323395]]), 'lmbd': [0.12383375953938606877, 1.3096607682090837533], 'zprob': [0.11602746346814394448, 0.53732927853769936086], 'log_initProb': array([-1.86447497e-05, -1.08899553e+01]), 'sigma': [0.00069360627926827536223, 0.0003049664499147221374]}\n",
            "iteration:  38\n",
            "logliklihood:  -42913.96617937182968\n",
            "{'log_transition': array([[-1.03769743, -0.437373  ],\n",
            "       [-1.78786037, -0.1831032 ]]), 'lmbd': [0.12382140247379598089, 1.3097714691274843348], 'zprob': [0.11600266636919372269, 0.5373563856115457435], 'log_initProb': array([-1.85748687e-05, -1.08937103e+01]), 'sigma': [0.00069365609153455252746, 0.00030494052202347628876]}\n",
            "iteration:  39\n",
            "logliklihood:  -42905.96684532500473\n",
            "{'log_transition': array([[-1.03686719, -0.43782879],\n",
            "       [-1.78842079, -0.18299063]]), 'lmbd': [0.123810775618029240795, 1.309866791525675734], 'zprob': [0.115981349759385668335, 0.5373797587620839584], 'log_initProb': array([-1.85148840e-05, -1.08969449e+01]), 'sigma': [0.00069369897109953345544, 0.00030491821215063824818]}\n",
            "iteration:  40\n",
            "logliklihood:  -42899.075228203232438\n",
            "{'log_transition': array([[-1.03615234, -0.43822171],\n",
            "       [-1.78890363, -0.1828937 ]]), 'lmbd': [0.12380163497843378511, 1.3099488684518634794], 'zprob': [0.115963021014512671104, 0.53739990793629472434], 'log_initProb': array([-1.84633737e-05, -1.08997308e+01]), 'sigma': [0.00069373588426175605057, 0.00030489901424132573808]}\n",
            "iteration:  41\n",
            "logliklihood:  -42893.13835620733769\n",
            "{'log_transition': array([[-1.03553684, -0.43856036],\n",
            "       [-1.78931959, -0.18281025]]), 'lmbd': [0.1237937714644575435, 1.3100195384203057671], 'zprob': [0.11594725831438770587, 0.53741727464036775436], 'log_initProb': array([-1.84191251e-05, -1.09021302e+01]), 'sigma': [0.0006937676621851486289, 0.00030488249323111142428]}\n",
            "iteration:  42\n",
            "logliklihood:  -42888.02429099577064\n",
            "{'log_transition': array([[-1.03500689, -0.43885221],\n",
            "       [-1.7896779 , -0.18273839]]), 'lmbd': [0.12378700575235916643, 1.310080385577080133], 'zprob': [0.11593370018292528093, 0.53743224078891250307], 'log_initProb': array([-1.83811030e-05, -1.09041966e+01]), 'sigma': [0.00069379501994102266646, 0.0003048682750676540514]}\n",
            "iteration:  43\n",
            "logliklihood:  -42883.61925317712867\n",
            "{'log_transition': array([[-1.0345506 , -0.43910368],\n",
            "       [-1.78998654, -0.18267652]]), 'lmbd': [0.123781183946628100916, 1.3101327745747819209], 'zprob': [0.11592203664768154292, 0.5374451365067703276], 'log_initProb': array([-1.83484224e-05, -1.09059761e+01]), 'sigma': [0.00069381857282028484977, 0.00030485603812835882608]}\n",
            "iteration:  44\n",
            "logliklihood:  -42879.825138226509235\n",
            "{'log_transition': array([[-1.03415773, -0.43932034],\n",
            "       [-1.79025238, -0.18262325]]), 'lmbd': [0.12377617390307691013, 1.3101778807847964716], 'zprob': [0.115912001748894660634, 0.5374562469781604711], 'log_initProb': array([-1.83203266e-05, -1.09075085e+01]), 'sigma': [0.000693838850322351206, 0.00030484550584437903578]}\n",
            "iteration:  45\n",
            "logliklihood:  -42876.557369673498037\n",
            "{'log_transition': array([[-1.03381946, -0.43950699],\n",
            "       [-1.79048133, -0.18257738]]), 'lmbd': [0.1237718621041852232, 1.3102167164266853385], 'zprob': [0.11590336717793553006, 0.5374658184390667184], 'log_initProb': array([-1.82961673e-05, -1.09088281e+01]), 'sigma': [0.0006938563081618213775, 0.00030483644036423005496]}\n",
            "iteration:  46\n",
            "logliklihood:  -42873.74304394113118\n",
            "{'log_transition': array([[-1.03352822, -0.43966778],\n",
            "       [-1.79067852, -0.18253789]]), 'lmbd': [0.12376815099778590708, 1.3102501531384353582], 'zprob': [0.115895936864549186104, 0.53747406340568826017], 'log_initProb': array([-1.82753894e-05, -1.09099644e+01]), 'sigma': [0.00069387133858061157927, 0.00030482863711170851304]}\n",
            "iteration:  47\n",
            "logliklihood:  -42871.319327513536344\n",
            "{'log_transition': array([[-1.03327745, -0.43980628],\n",
            "       [-1.79084834, -0.18250388]]), 'lmbd': [0.123764956726201760054, 1.3102789414544857986], 'zprob': [0.11588954236378386502, 0.53748116522620969387], 'log_initProb': array([-1.82575170e-05, -1.09109428e+01]), 'sigma': [0.00069388427920927748995, 0.00030482192011221971755]}\n",
            "iteration:  48\n",
            "logliklihood:  -42869.23207244458056\n",
            "{'log_transition': array([[-1.03306154, -0.43992557],\n",
            "       [-1.79099458, -0.1824746 ]]), 'lmbd': [0.12376220718560760191, 1.3103037276038047934], 'zprob': [0.11588403891887400017, 0.53748728203627592874], 'log_initProb': array([-1.82421417e-05, -1.09117853e+01]), 'sigma': [0.00069389542068471842485, 0.00030481613797887076803]}\n",
            "iteration:  49\n",
            "logliklihood:  -42867.434620785242817\n",
            "{'log_transition': array([[-1.03287564, -0.44002831],\n",
            "       [-1.79112052, -0.1824494 ]]), 'lmbd': [0.12375984036552612077, 1.3103250679895402444], 'zprob': [0.11587930209691691376, 0.53749255019116293377], 'log_initProb': array([-1.82289132e-05, -1.09125107e+01]), 'sigma': [0.0006939050132008688769, 0.00030481116046483011814]}\n",
            "iteration:  50\n",
            "logliklihood:  -42865.886772435120058\n",
            "{'log_transition': array([[-1.03271558, -0.44011679],\n",
            "       [-1.79122896, -0.18242769]]), 'lmbd': [0.12375780292655819796, 1.3103434416656921085], 'zprob': [0.115875224910980193674, 0.53749708724021041625], 'log_initProb': array([-1.82175304e-05, -1.09131353e+01]), 'sigma': [0.0006939132721432350688, 0.0003048068755016293194]}\n",
            "iteration:  51\n",
            "logliklihood:  -42864.553894320709492\n",
            "{'log_transition': array([[-1.03257777, -0.44019299],\n",
            "       [-1.79132235, -0.182409  ]]), 'lmbd': [0.12375604898113355386, 1.3103592610850441017], 'zprob': [0.11587171535607574491, 0.53750099450193156506], 'log_initProb': array([-1.82077352e-05, -1.09136731e+01]), 'sigma': [0.00069392038293635525835, 0.0003048031866544785192]}\n",
            "iteration:  52\n",
            "logliklihood:  -42863.406151748142808\n",
            "{'log_transition': array([[-1.03245912, -0.44025862],\n",
            "       [-1.79140276, -0.18239291]]), 'lmbd': [0.12375453904756765443, 1.3103728813561284983], 'zprob': [0.115868694297835202054, 0.5375043592915141982], 'log_initProb': array([-1.81993054e-05, -1.09141362e+01]), 'sigma': [0.0006939265052147740319, 0.00030480001093548276067]}\n",
            "iteration:  53\n",
            "logliklihood:  -42862.417845334284856\n",
            "{'log_transition': array([[-1.03235696, -0.44031513],\n",
            "       [-1.79147201, -0.18237906]]), 'lmbd': [0.12375323915226843862, 1.3103846082149782771], 'zprob': [0.11586609366218512, 0.53750725684626747336], 'log_initProb': array([-1.81920503e-05, -1.09145350e+01]), 'sigma': [0.00069393177641237679513, 0.00030479727692407945243]}\n",
            "iteration:  54\n",
            "logliklihood:  -42861.56683914277168\n",
            "{'log_transition': array([[-1.032269  , -0.44036379],\n",
            "       [-1.79153163, -0.18236713]]), 'lmbd': [0.123752120058735583306, 1.3103947048894533929], 'zprob': [0.115863854882212262575, 0.53750975198898211265], 'log_initProb': array([-1.81858058e-05, -1.09148783e+01]), 'sigma': [0.00069393631485149487614, 0.000304794923151249817]}\n",
            "iteration:  55\n",
            "logliklihood:  -42860.83406757732027\n",
            "{'log_transition': array([[-1.03219326, -0.4404057 ],\n",
            "       [-1.79158297, -0.18235686]]), 'lmbd': [0.12375115660517885733, 1.3104033980096003059], 'zprob': [0.11586192756501721617, 0.5375119005641591163], 'log_initProb': array([-1.81804309e-05, -1.09151739e+01]), 'sigma': [0.0006939402224017025547, 0.0003047928967102541576]}\n",
            "iteration:  56\n",
            "logliklihood:  -42860.20311026535976\n",
            "{'log_transition': array([[-1.03212805, -0.44044178],\n",
            "       [-1.79162718, -0.18234802]]), 'lmbd': [0.12375032713526134019, 1.3104108826964003889], 'zprob': [0.11586026834690671333, 0.53751375067759798364], 'log_initProb': array([-1.81758042e-05, -1.09154284e+01]), 'sigma': [0.0006939435867683902584, 0.00030479115206194767492]}\n",
            "iteration:  57\n",
            "logliklihood:  -42859.659825615455073\n",
            "{'log_transition': array([[-1.03207191, -0.44047285],\n",
            "       [-1.79166524, -0.1823404 ]]), 'lmbd': [0.123749613008737162184, 1.3104173269430000226], 'zprob': [0.115858839909955132596, 0.53751534376588593815], 'log_initProb': array([-1.81718216e-05, -1.09156475e+01]), 'sigma': [0.00069394648346276412566, 0.00030478965000727665132]}\n",
            "iteration:  58\n",
            "logliklihood:  -42859.192034997248754\n",
            "{'log_transition': array([[-1.03202357, -0.44049961],\n",
            "       [-1.79169801, -0.18233385]]), 'lmbd': [0.12374899818067091611, 1.3104228753867291989], 'zprob': [0.1158576101369210246, 0.5375167155188506795], 'log_initProb': array([-1.81683932e-05, -1.09158362e+01]), 'sigma': [0.00069394897749768697265, 0.0003047883568034453466]}\n",
            "iteration:  59\n",
            "logliklihood:  -42858.789250584693683\n",
            "{'log_transition': array([[-1.03198195, -0.44052264],\n",
            "       [-1.79172623, -0.1823282 ]]), 'lmbd': [0.12374846883955524665, 1.3104276525565906685], 'zprob': [0.115856551384856105894, 0.5375178966749877207], 'log_initProb': array([-1.81654418e-05, -1.09159987e+01]), 'sigma': [0.00069395112484756236624, 0.00030478724340357604063]}\n",
            "iteration:  60\n",
            "logliklihood:  -42858.44244085272847\n",
            "{'log_transition': array([[-1.03194611, -0.44054248],\n",
            "       [-1.79175053, -0.18232334]]), 'lmbd': [0.12374801309603009728, 1.310431765669149708], 'zprob': [0.11585563986058960031, 0.53751891370720489445], 'log_initProb': array([-1.81629011e-05, -1.09161385e+01]), 'sigma': [0.0006939529737051263706, 0.0003047862848025385053]}\n",
            "iteration:  61\n",
            "logliklihood:  -42858.143828538103264\n",
            "{'log_transition': array([[-1.03191526, -0.44055956],\n",
            "       [-1.79177145, -0.18231916]]), 'lmbd': [0.12374762071509007644, 1.3104353070356249137], 'zprob': [0.115854855083691680636, 0.53751978941389878293], 'log_initProb': array([-1.81607138e-05, -1.09162590e+01]), 'sigma': [0.0006939545655634236606, 0.0003047854594740717026]}\n",
            "iteration:  62\n",
            "logliklihood:  -42857.88671658486837\n",
            "{'log_transition': array([[-1.03188869, -0.44057426],\n",
            "       [-1.79178946, -0.18231556]]), 'lmbd': [0.12374728288567650304, 1.3104383561342512544], 'zprob': [0.11585417942458192873, 0.5375205434283515843], 'log_initProb': array([-1.81588307e-05, -1.09163627e+01]), 'sigma': [0.00069395593614730156607, 0.00030478474888641747162]}\n",
            "iteration:  63\n",
            "logliklihood:  -42857.665338209544643\n",
            "{'log_transition': array([[-1.03186582, -0.44058693],\n",
            "       [-1.79180497, -0.18231246]]), 'lmbd': [0.12374699202241500817, 1.3104409813944696686], 'zprob': [0.11585359770720880511, 0.53752119265767639596], 'log_initProb': array([-1.81572095e-05, -1.09164519e+01]), 'sigma': [0.0006939571162153627218, 0.0003047841370854849223]}\n",
            "iteration:  64\n",
            "logliklihood:  -42857.47472775317956\n",
            "{'log_transition': array([[-1.03184613, -0.44059783],\n",
            "       [-1.79181833, -0.18230979]]), 'lmbd': [0.12374674159499896535, 1.3104432417330221066], 'zprob': [0.11585309686722918649, 0.53752175166101100293], 'log_initProb': array([-1.81558137e-05, -1.09165288e+01]), 'sigma': [0.00069395813225040028946, 0.00030478361033610745772]}\n",
            "iteration:  65\n",
            "logliklihood:  -42857.310609442866166\n",
            "{'log_transition': array([[-1.03182917, -0.44060722],\n",
            "       [-1.79182983, -0.18230749]]), 'lmbd': [0.123746525981353130084, 1.3104451878764575495], 'zprob': [0.11585266565790286422, 0.5375222329753365044], 'log_initProb': array([-1.81546121e-05, -1.09165950e+01]), 'sigma': [0.00069395900705382898643, 0.00030478315681327868927]}\n",
            "iteration:  66\n",
            "logliklihood:  -42857.16930158603511\n",
            "{'log_transition': array([[-1.03181457, -0.4406153 ],\n",
            "       [-1.79183973, -0.18230551]]), 'lmbd': [0.12374634034125490131, 1.3104468634997525304], 'zprob': [0.11585229439701726892, 0.53752264739615008464], 'log_initProb': array([-1.81535775e-05, -1.09166520e+01]), 'sigma': [0.0006939597602574656005, 0.0003047827663363920167]}\n",
            "iteration:  67\n",
            "logliklihood:  -42857.047634058378122\n",
            "{'log_transition': array([[-1.031802  , -0.44062226],\n",
            "       [-1.79184825, -0.1823038 ]]), 'lmbd': [0.123746180507557388134, 1.310448306206620297], 'zprob': [0.1158519747491004799, 0.537523004219230333], 'log_initProb': array([-1.81526868e-05, -1.09167011e+01]), 'sigma': [0.00069396040876415405793, 0.00030478243014048383714]}\n",
            "iteration:  68\n",
            "logliklihood:  -42856.94287724442858\n",
            "{'log_transition': array([[-1.03179118, -0.44062825],\n",
            "       [-1.79185559, -0.18230233]]), 'lmbd': [0.12374604289255821195, 1.3104495483735227287], 'zprob': [0.115851699537988755074, 0.53752331144887527246], 'log_initProb': array([-1.81519199e-05, -1.09167433e+01]), 'sigma': [0.0006939609671271304009, 0.0003047821406793217234]}\n",
            "iteration:  69\n",
            "logliklihood:  -42856.8526808427459\n",
            "{'log_transition': array([[-1.03178186, -0.44063341],\n",
            "       [-1.79186191, -0.18230107]]), 'lmbd': [0.12374592440740229566, 1.3104506178763395511], 'zprob': [0.11585146258550804668, 0.53752357597725345225], 'log_initProb': array([-1.81512597e-05, -1.09167797e+01]), 'sigma': [0.00069396144787664625213, 0.00030478189145589807218]}\n",
            "iteration:  70\n",
            "logliklihood:  -42856.775021168149156\n",
            "{'log_transition': array([[-1.03177384, -0.44063785],\n",
            "       [-1.79186735, -0.18229998]]), 'lmbd': [0.123745822392701675826, 1.310451538716010321], 'zprob': [0.115851258572623889755, 0.53752380373886790745], 'log_initProb': array([-1.81506912e-05, -1.09168110e+01]), 'sigma': [0.0006939618618011845023, 0.00030478167687651178877]}\n",
            "iteration:  71\n",
            "logliklihood:  -42856.708155771515557\n",
            "{'log_transition': array([[-1.03176693, -0.44064168],\n",
            "       [-1.79187203, -0.18229905]]), 'lmbd': [0.123745734558809733334, 1.3104523315571979388], 'zprob': [0.11585108291992493555, 0.5375239998435815392], 'log_initProb': array([-1.81502018e-05, -1.09168380e+01]), 'sigma': [0.0006939622181895806454, 0.00030478149212515176345]}\n",
            "iteration:  72\n",
            "logliklihood:  -42856.65058436268351\n",
            "{'log_transition': array([[-1.03176098, -0.44064497],\n",
            "       [-1.79187607, -0.18229824]]), 'lmbd': [0.12374565893440488735, 1.3104530141920656623], 'zprob': [0.11585093168474400593, 0.53752416869117519883], 'log_initProb': array([-1.81497804e-05, -1.09168612e+01]), 'sigma': [0.0006939625250394854885, 0.00030478133305535594195]}\n",
            "iteration:  73\n",
            "logliklihood:  -42856.60101516151455\n",
            "{'log_transition': array([[-1.03175586, -0.44064781],\n",
            "       [-1.79187954, -0.18229754]]), 'lmbd': [0.12374559382222702126, 1.3104536019395812473], 'zprob': [0.1158508014725977682, 0.5375243140699997686], 'log_initProb': array([-1.81494176e-05, -1.09168812e+01]), 'sigma': [0.00069396278923684849897, 0.0003047811960971124332]}\n",
            "iteration:  74\n",
            "logliklihood:  -42856.558335922575928\n",
            "{'log_transition': array([[-1.03175145, -0.44065025],\n",
            "       [-1.79188253, -0.18229695]]), 'lmbd': [0.12374553776097073467, 1.3104541079893115001], 'zprob': [0.11585068936094992315, 0.53752443924192843696], 'log_initProb': array([-1.81491053e-05, -1.09168984e+01]), 'sigma': [0.0006939630167104507599, 0.00030478107817670966822]}\n",
            "iteration:  75\n",
            "logliklihood:  -42856.521588985973967\n",
            "{'log_transition': array([[-1.03174766, -0.44065235],\n",
            "       [-1.79188511, -0.18229643]]), 'lmbd': [0.12374548949247855935, 1.3104545436974238922], 'zprob': [0.11585059283358138802, 0.5375245470155100293], 'log_initProb': array([-1.81488363e-05, -1.09169132e+01]), 'sigma': [0.0006939632125649564258, 0.00030478097664773315823]}\n",
            "iteration:  76\n",
            "logliklihood:  -42856.48994979447807\n",
            "{'log_transition': array([[-1.03174439, -0.44065416],\n",
            "       [-1.79188732, -0.18229599]]), 'lmbd': [0.12374544793349665737, 1.3104549188415406581], 'zprob': [0.11585050972409055924, 0.53752463980896114], 'log_initProb': array([-1.81486048e-05, -1.09169259e+01]), 'sigma': [0.0006939633811954686762, 0.0003047808892316583284]}\n"
          ],
          "name": "stdout"
        },
        {
          "output_type": "error",
          "ename": "KeyboardInterrupt",
          "evalue": "ignored",
          "traceback": [
            "\u001b[0;31m---------------------------------------------------------------------------\u001b[0m",
            "\u001b[0;31mKeyboardInterrupt\u001b[0m                         Traceback (most recent call last)",
            "\u001b[0;32m<ipython-input-284-462333ba2fc1>\u001b[0m in \u001b[0;36m<module>\u001b[0;34m()\u001b[0m\n\u001b[1;32m     13\u001b[0m \u001b[0;34m\u001b[0m\u001b[0m\n\u001b[1;32m     14\u001b[0m \u001b[0mlatentZ\u001b[0m\u001b[0;34m,\u001b[0m \u001b[0mlog_mid_price\u001b[0m\u001b[0;34m,\u001b[0m \u001b[0mtime_between_trades\u001b[0m\u001b[0;34m=\u001b[0m\u001b[0msimulFunc\u001b[0m\u001b[0;34m(\u001b[0m\u001b[0mparams\u001b[0m\u001b[0;34m,\u001b[0m\u001b[0;36m2000\u001b[0m\u001b[0;34m)\u001b[0m\u001b[0;34m\u001b[0m\u001b[0;34m\u001b[0m\u001b[0m\n\u001b[0;32m---> 15\u001b[0;31m \u001b[0mloglike\u001b[0m\u001b[0;34m,\u001b[0m\u001b[0mparams1\u001b[0m\u001b[0;34m=\u001b[0m\u001b[0mEM\u001b[0m\u001b[0;34m(\u001b[0m\u001b[0mhmm_params1\u001b[0m\u001b[0;34m,\u001b[0m\u001b[0mtime_between_trades\u001b[0m\u001b[0;34m,\u001b[0m\u001b[0mlog_mid_price\u001b[0m\u001b[0;34m,\u001b[0m\u001b[0;36m400\u001b[0m\u001b[0;34m,\u001b[0m\u001b[0mfrq\u001b[0m\u001b[0;34m=\u001b[0m\u001b[0;36m1\u001b[0m\u001b[0;34m,\u001b[0m\u001b[0mverbose\u001b[0m\u001b[0;34m=\u001b[0m\u001b[0;32mTrue\u001b[0m\u001b[0;34m)\u001b[0m\u001b[0;34m\u001b[0m\u001b[0;34m\u001b[0m\u001b[0m\n\u001b[0m",
            "\u001b[0;32m<ipython-input-283-f56128908f54>\u001b[0m in \u001b[0;36mEM\u001b[0;34m(initParams, time, price, nb_iter, frq, verbose)\u001b[0m\n\u001b[1;32m     20\u001b[0m     \u001b[0;31m#log_eps_mat=np.log((log_eps_mat-np.min(log_eps_mat))/(np.max(log_eps_mat)-np.min(log_eps_mat)))\u001b[0m\u001b[0;34m\u001b[0m\u001b[0;34m\u001b[0m\u001b[0;34m\u001b[0m\u001b[0m\n\u001b[1;32m     21\u001b[0m \u001b[0;34m\u001b[0m\u001b[0m\n\u001b[0;32m---> 22\u001b[0;31m     \u001b[0mlog_eps_numer\u001b[0m\u001b[0;34m=\u001b[0m\u001b[0mlog_epsilon_numerator\u001b[0m\u001b[0;34m(\u001b[0m\u001b[0malpha_mat\u001b[0m\u001b[0;34m,\u001b[0m\u001b[0mbeta_mat\u001b[0m\u001b[0;34m,\u001b[0m\u001b[0mtime\u001b[0m\u001b[0;34m,\u001b[0m\u001b[0mprice\u001b[0m\u001b[0;34m,\u001b[0m\u001b[0mhmm_params\u001b[0m\u001b[0;34m)\u001b[0m\u001b[0;34m\u001b[0m\u001b[0;34m\u001b[0m\u001b[0m\n\u001b[0m\u001b[1;32m     23\u001b[0m \u001b[0;34m\u001b[0m\u001b[0m\n\u001b[1;32m     24\u001b[0m     \u001b[0mlog_rtj\u001b[0m\u001b[0;34m=\u001b[0m\u001b[0mnp\u001b[0m\u001b[0;34m.\u001b[0m\u001b[0mlog\u001b[0m\u001b[0;34m(\u001b[0m\u001b[0mbeta_mat\u001b[0m\u001b[0;34m[\u001b[0m\u001b[0;34m:\u001b[0m\u001b[0;34m:\u001b[0m\u001b[0;34m-\u001b[0m\u001b[0;36m1\u001b[0m\u001b[0;34m]\u001b[0m\u001b[0;34m*\u001b[0m\u001b[0malpha_mat\u001b[0m\u001b[0;34m)\u001b[0m \u001b[0;31m#[np.log(np.sum(np.exp(x),axis=1)) for x in log_eps_mat]\u001b[0m\u001b[0;34m\u001b[0m\u001b[0;34m\u001b[0m\u001b[0m\n",
            "\u001b[0;32m<ipython-input-21-2b6d034bf4e7>\u001b[0m in \u001b[0;36mlog_epsilon_numerator\u001b[0;34m(alphaMat, betaMat, time, price, hmm_params)\u001b[0m\n\u001b[1;32m     21\u001b[0m           \u001b[0;34m+\u001b[0m\u001b[0mlog_tr_mat\u001b[0m\u001b[0;34m[\u001b[0m\u001b[0mi\u001b[0m\u001b[0;34m]\u001b[0m\u001b[0;34m[\u001b[0m\u001b[0mj\u001b[0m\u001b[0;34m]\u001b[0m\u001b[0;34m\u001b[0m\u001b[0;34m\u001b[0m\u001b[0m\n\u001b[1;32m     22\u001b[0m           \u001b[0;34m+\u001b[0m\u001b[0mlog_mixture_density\u001b[0m\u001b[0;34m(\u001b[0m\u001b[0mtime\u001b[0m\u001b[0;34m[\u001b[0m\u001b[0mt\u001b[0m\u001b[0;34m+\u001b[0m\u001b[0;36m1\u001b[0m\u001b[0;34m]\u001b[0m\u001b[0;34m,\u001b[0m\u001b[0mprice\u001b[0m\u001b[0;34m[\u001b[0m\u001b[0mt\u001b[0m\u001b[0;34m+\u001b[0m\u001b[0;36m1\u001b[0m\u001b[0;34m]\u001b[0m\u001b[0;34m,\u001b[0m\u001b[0mtheta\u001b[0m\u001b[0;34m[\u001b[0m\u001b[0mj\u001b[0m\u001b[0;34m]\u001b[0m\u001b[0;34m)\u001b[0m\u001b[0;34m\u001b[0m\u001b[0;34m\u001b[0m\u001b[0m\n\u001b[0;32m---> 23\u001b[0;31m           +np.log(betaMat[-(t+1)][j]))#-log_seq_prob)\n\u001b[0m\u001b[1;32m     24\u001b[0m \u001b[0;34m\u001b[0m\u001b[0m\n\u001b[1;32m     25\u001b[0m         \u001b[0mjlst\u001b[0m\u001b[0;34m.\u001b[0m\u001b[0mappend\u001b[0m\u001b[0;34m(\u001b[0m\u001b[0meps\u001b[0m\u001b[0;34m)\u001b[0m\u001b[0;34m\u001b[0m\u001b[0;34m\u001b[0m\u001b[0m\n",
            "\u001b[0;32m<ipython-input-40-ccce370f0d65>\u001b[0m in \u001b[0;36mlog_mixture_density\u001b[0;34m(t, x, theta)\u001b[0m\n\u001b[1;32m      5\u001b[0m   \u001b[0msigma\u001b[0m\u001b[0;34m=\u001b[0m\u001b[0mnp\u001b[0m\u001b[0;34m.\u001b[0m\u001b[0mfloat64\u001b[0m\u001b[0;34m(\u001b[0m\u001b[0mtheta\u001b[0m\u001b[0;34m[\u001b[0m\u001b[0;34m'sigma'\u001b[0m\u001b[0;34m]\u001b[0m\u001b[0;34m)\u001b[0m\u001b[0;34m\u001b[0m\u001b[0;34m\u001b[0m\u001b[0m\n\u001b[1;32m      6\u001b[0m   \u001b[0mlog_cencored_time\u001b[0m\u001b[0;34m=\u001b[0m\u001b[0;34m-\u001b[0m\u001b[0mlmbd\u001b[0m\u001b[0;34m*\u001b[0m\u001b[0mt\u001b[0m\u001b[0;34m+\u001b[0m\u001b[0mnp\u001b[0m\u001b[0;34m.\u001b[0m\u001b[0mlog\u001b[0m\u001b[0;34m(\u001b[0m\u001b[0;34m(\u001b[0m\u001b[0;36m1\u001b[0m\u001b[0;34m-\u001b[0m\u001b[0mnp\u001b[0m\u001b[0;34m.\u001b[0m\u001b[0mexp\u001b[0m\u001b[0;34m(\u001b[0m\u001b[0;34m-\u001b[0m\u001b[0mlmbd\u001b[0m\u001b[0;34m)\u001b[0m\u001b[0;34m)\u001b[0m\u001b[0;34m)\u001b[0m\u001b[0;34m\u001b[0m\u001b[0;34m\u001b[0m\u001b[0m\n\u001b[0;32m----> 7\u001b[0;31m   \u001b[0mlog_log_price_revision\u001b[0m\u001b[0;34m=\u001b[0m \u001b[0mnp\u001b[0m\u001b[0;34m.\u001b[0m\u001b[0mlog\u001b[0m\u001b[0;34m(\u001b[0m\u001b[0mzprob\u001b[0m\u001b[0;34m)\u001b[0m \u001b[0;32mif\u001b[0m \u001b[0mx\u001b[0m\u001b[0;34m==\u001b[0m\u001b[0;36m0\u001b[0m  \u001b[0;32melse\u001b[0m \u001b[0mnp\u001b[0m\u001b[0;34m.\u001b[0m\u001b[0mlog\u001b[0m\u001b[0;34m(\u001b[0m\u001b[0;36m1\u001b[0m\u001b[0;34m-\u001b[0m\u001b[0mzprob\u001b[0m\u001b[0;34m)\u001b[0m\u001b[0;34m+\u001b[0m\u001b[0mnorm\u001b[0m\u001b[0;34m.\u001b[0m\u001b[0mlogpdf\u001b[0m\u001b[0;34m(\u001b[0m\u001b[0mx\u001b[0m\u001b[0;34m,\u001b[0m\u001b[0mscale\u001b[0m\u001b[0;34m=\u001b[0m\u001b[0msigma\u001b[0m\u001b[0;34m)\u001b[0m\u001b[0;34m\u001b[0m\u001b[0;34m\u001b[0m\u001b[0m\n\u001b[0m\u001b[1;32m      8\u001b[0m   \u001b[0;32mreturn\u001b[0m \u001b[0mlog_cencored_time\u001b[0m\u001b[0;34m+\u001b[0m\u001b[0mlog_log_price_revision\u001b[0m\u001b[0;34m\u001b[0m\u001b[0;34m\u001b[0m\u001b[0m\n",
            "\u001b[0;32m/usr/local/lib/python3.6/dist-packages/scipy/stats/_distn_infrastructure.py\u001b[0m in \u001b[0;36mlogpdf\u001b[0;34m(self, x, *args, **kwds)\u001b[0m\n\u001b[1;32m   1786\u001b[0m         \u001b[0moutput\u001b[0m \u001b[0;34m=\u001b[0m \u001b[0mempty\u001b[0m\u001b[0;34m(\u001b[0m\u001b[0mshape\u001b[0m\u001b[0;34m(\u001b[0m\u001b[0mcond\u001b[0m\u001b[0;34m)\u001b[0m\u001b[0;34m,\u001b[0m \u001b[0mdtyp\u001b[0m\u001b[0;34m)\u001b[0m\u001b[0;34m\u001b[0m\u001b[0;34m\u001b[0m\u001b[0m\n\u001b[1;32m   1787\u001b[0m         \u001b[0moutput\u001b[0m\u001b[0;34m.\u001b[0m\u001b[0mfill\u001b[0m\u001b[0;34m(\u001b[0m\u001b[0mNINF\u001b[0m\u001b[0;34m)\u001b[0m\u001b[0;34m\u001b[0m\u001b[0;34m\u001b[0m\u001b[0m\n\u001b[0;32m-> 1788\u001b[0;31m         \u001b[0mputmask\u001b[0m\u001b[0;34m(\u001b[0m\u001b[0moutput\u001b[0m\u001b[0;34m,\u001b[0m \u001b[0;34m(\u001b[0m\u001b[0;36m1\u001b[0m\u001b[0;34m-\u001b[0m\u001b[0mcond0\u001b[0m\u001b[0;34m)\u001b[0m\u001b[0;34m+\u001b[0m\u001b[0mnp\u001b[0m\u001b[0;34m.\u001b[0m\u001b[0misnan\u001b[0m\u001b[0;34m(\u001b[0m\u001b[0mx\u001b[0m\u001b[0;34m)\u001b[0m\u001b[0;34m,\u001b[0m \u001b[0mself\u001b[0m\u001b[0;34m.\u001b[0m\u001b[0mbadvalue\u001b[0m\u001b[0;34m)\u001b[0m\u001b[0;34m\u001b[0m\u001b[0;34m\u001b[0m\u001b[0m\n\u001b[0m\u001b[1;32m   1789\u001b[0m         \u001b[0;32mif\u001b[0m \u001b[0mnp\u001b[0m\u001b[0;34m.\u001b[0m\u001b[0many\u001b[0m\u001b[0;34m(\u001b[0m\u001b[0mcond\u001b[0m\u001b[0;34m)\u001b[0m\u001b[0;34m:\u001b[0m\u001b[0;34m\u001b[0m\u001b[0;34m\u001b[0m\u001b[0m\n\u001b[1;32m   1790\u001b[0m             \u001b[0mgoodargs\u001b[0m \u001b[0;34m=\u001b[0m \u001b[0margsreduce\u001b[0m\u001b[0;34m(\u001b[0m\u001b[0mcond\u001b[0m\u001b[0;34m,\u001b[0m \u001b[0;34m*\u001b[0m\u001b[0;34m(\u001b[0m\u001b[0;34m(\u001b[0m\u001b[0mx\u001b[0m\u001b[0;34m,\u001b[0m\u001b[0;34m)\u001b[0m\u001b[0;34m+\u001b[0m\u001b[0margs\u001b[0m\u001b[0;34m+\u001b[0m\u001b[0;34m(\u001b[0m\u001b[0mscale\u001b[0m\u001b[0;34m,\u001b[0m\u001b[0;34m)\u001b[0m\u001b[0;34m)\u001b[0m\u001b[0;34m)\u001b[0m\u001b[0;34m\u001b[0m\u001b[0;34m\u001b[0m\u001b[0m\n",
            "\u001b[0;32m<__array_function__ internals>\u001b[0m in \u001b[0;36mputmask\u001b[0;34m(*args, **kwargs)\u001b[0m\n",
            "\u001b[0;31mKeyboardInterrupt\u001b[0m: "
          ]
        }
      ]
    },
    {
      "cell_type": "markdown",
      "metadata": {
        "id": "sV-vHWwJFlBO",
        "colab_type": "text"
      },
      "source": [
        "##plotting logliklihood for 2 regime market"
      ]
    },
    {
      "cell_type": "code",
      "metadata": {
        "id": "TGfcLbS7zNJ7",
        "colab_type": "code",
        "outputId": "3d4f279b-9bf3-4414-e6eb-761cc4375413",
        "colab": {
          "base_uri": "https://localhost:8080/",
          "height": 299
        }
      },
      "source": [
        "plt.plot(loglike)\n",
        "plt.xlabel(\"iterations\")\n",
        "plt.ylabel(\"log liklihood\")"
      ],
      "execution_count": 0,
      "outputs": [
        {
          "output_type": "execute_result",
          "data": {
            "text/plain": [
              "Text(0, 0.5, 'log liklihood')"
            ]
          },
          "metadata": {
            "tags": []
          },
          "execution_count": 265
        },
        {
          "output_type": "display_data",
          "data": {
            "image/png": "[encoded data removed]",
            "text/plain": [
              "<Figure size 432x288 with 1 Axes>"
            ]
          },
          "metadata": {
            "tags": [],
            "needs_background": "light"
          }
        }
      ]
    },
    {
      "cell_type": "markdown",
      "metadata": {
        "id": "vA_TiOcaF0oF",
        "colab_type": "text"
      },
      "source": [
        "## Running EM for 4 regime Market"
      ]
    },
    {
      "cell_type": "code",
      "metadata": {
        "id": "Gi9pDcRai74n",
        "colab_type": "code",
        "outputId": "085c2756-33e0-473b-826b-a78bf75f89f8",
        "colab": {
          "base_uri": "https://localhost:8080/",
          "height": 1000
        }
      },
      "source": [
        "np.random.seed(1532)\n",
        "hmm_params1={'log_transition':np.log(np.array([[1.14,94.48,1.18,3.20],\n",
        "                                              [79.88,3.05,0.04,17.03],\n",
        "                                              [43.08,0.60,0.08,56.24],\n",
        "                                              [3.05,18.64,75.95,2.36]\n",
        "                                              ])/100),\n",
        "        'lmbd':[2.614,2.101,1.203,0.487],\n",
        "        'zprob':np.array([85.57,46.57,26.34,29.06])/100,\n",
        "        'log_initProb':np.log([.25,.25,.25,.25]),\n",
        "        'sigma':np.array([1.810,2.931,11.480,2.496])*1e-4}\n",
        "\n",
        "\n",
        "params={'transition':np.array([[79.88,3.05,0.04,17.03],\n",
        "                      [1.14,94.48,1.18,3.20],\n",
        "                      [3.05,18.64,75.95,2.36],\n",
        "                      [43.08,0.60,0.08,56.24]])/100,\n",
        "        'lmbd':[2.614,2.101,1.203,0.487],\n",
        "        'zprob':np.array([85.57,46.57,26.34,29.06])/100,\n",
        "        'sigma':np.array([1.810,2.931,11.480,2.496])*1e-4}\n",
        "\n",
        "latentZ, log_mid_price, time_between_trades=simulFunc(params,5000)\n",
        "loglike,params1=EM(hmm_params1,time_between_trades,log_mid_price,10,frq=1,verbose=True)"
      ],
      "execution_count": 17,
      "outputs": [
        {
          "output_type": "stream",
          "text": [
            "iteration:  0\n",
            "logliklihood:  -371068.33243730688605\n",
            "{'log_transition': array([[1.140e-02, 9.448e-01, 1.180e-02, 3.200e-02],\n",
            "       [7.988e-01, 3.050e-02, 4.000e-04, 1.703e-01],\n",
            "       [4.308e-01, 6.000e-03, 8.000e-04, 5.624e-01],\n",
            "       [3.050e-02, 1.864e-01, 7.595e-01, 2.360e-02]]), 'lmbd': [2.614, 2.101, 1.203, 0.487], 'zprob': array([0.8557, 0.4657, 0.2634, 0.2906]), 'log_initProb': array([0.25, 0.25, 0.25, 0.25]), 'sigma': array([0.000181 , 0.0002931, 0.001148 , 0.0002496])}\n",
            "iteration:  1\n",
            "logliklihood:  -427931.80418851015494\n",
            "{'log_transition': array([[0.04119017, 0.82658728, 0.04851488, 0.08370767],\n",
            "       [0.48252005, 0.20217155, 0.01339815, 0.30191024],\n",
            "       [0.17446354, 0.04124244, 0.00992808, 0.77436594],\n",
            "       [0.06798112, 0.30170817, 0.53932635, 0.09098437]]), 'lmbd': [2.6743663166962126454, 2.2056446965582674963, 0.6989983837293651832, 0.6260610484609153603], 'zprob': array([0.66275194, 0.7208735 , 0.51389803, 0.16573844]), 'log_initProb': array([0.43931827, 0.29256896, 0.15026014, 0.11785262]), 'sigma': array([0.00020055, 0.00022318, 0.00040462, 0.00059359])}\n",
            "iteration:  2\n",
            "logliklihood:  -532048.6846838242176\n",
            "{'log_transition': array([[0.16206018, 0.57448188, 0.0944949 , 0.16896304],\n",
            "       [0.45783323, 0.23222616, 0.04091906, 0.26902155],\n",
            "       [0.27723739, 0.11465479, 0.05187816, 0.55622967],\n",
            "       [0.14166934, 0.28242704, 0.40546495, 0.17043867]]), 'lmbd': [3.0014031184849432263, 2.5463808579996542413, 0.55369344242761190056, 0.5511512284962863883], 'zprob': array([0.73380175, 0.71181934, 0.33100547, 0.28057734]), 'log_initProb': array([0.45107495, 0.37304723, 0.11134283, 0.06453498]), 'sigma': array([0.00018955, 0.0002093 , 0.00034742, 0.00039799])}\n",
            "iteration:  3\n",
            "logliklihood:  -583031.1020348252329\n",
            "{'log_transition': array([[0.22706352, 0.42681231, 0.14721022, 0.19891395],\n",
            "       [0.37912991, 0.26953963, 0.09795949, 0.25337097],\n",
            "       [0.26989138, 0.17687524, 0.13131035, 0.42192304],\n",
            "       [0.17702022, 0.25687954, 0.34871229, 0.21738796]]), 'lmbd': [3.235364643911576735, 2.8156003518298454776, 0.59618345184482871387, 0.60346286151126380515], 'zprob': array([0.75526771, 0.73202339, 0.30444671, 0.28252138]), 'log_initProb': array([0.45262377, 0.40407846, 0.0841692 , 0.05912857]), 'sigma': array([0.00018986, 0.00020757, 0.00033198, 0.00041903])}\n",
            "iteration:  4\n",
            "logliklihood:  -609022.2134835161885\n",
            "{'log_transition': array([[0.24644467, 0.34508714, 0.19510128, 0.21336692],\n",
            "       [0.31955723, 0.27505377, 0.1612357 , 0.2441533 ],\n",
            "       [0.24742006, 0.20384032, 0.20285294, 0.34588668],\n",
            "       [0.19396399, 0.23898765, 0.32587919, 0.24116918]]), 'lmbd': [3.39872184067046527, 3.0250855303140155186, 0.65730258507302564383, 0.6641855387555166594], 'zprob': array([0.76993954, 0.75201107, 0.31021752, 0.29836713]), 'log_initProb': array([0.44905186, 0.41665175, 0.07471815, 0.05957825]), 'sigma': array([0.00018798, 0.0002029 , 0.00029825, 0.00044061])}\n",
            "iteration:  5\n",
            "logliklihood:  -615582.88753101871276\n",
            "{'log_transition': array([[0.24472679, 0.2952663 , 0.23863632, 0.22137059],\n",
            "       [0.27909435, 0.26393446, 0.21840726, 0.23856393],\n",
            "       [0.22946282, 0.21106901, 0.25703081, 0.30243737],\n",
            "       [0.19979432, 0.22585541, 0.32537662, 0.24897366]]), 'lmbd': [3.570976920831665679, 3.2301070843779401845, 0.7184303311626291719, 0.72949569334897008455], 'zprob': array([0.78453749, 0.77169531, 0.32294617, 0.32531979]), 'log_initProb': array([0.44189858, 0.41944901, 0.07430786, 0.06434455]), 'sigma': array([0.00018599, 0.00019888, 0.00026959, 0.00046519])}\n",
            "iteration:  6\n",
            "logliklihood:  -609656.04077981229983\n",
            "{'log_transition': array([[0.23514922, 0.26184933, 0.27816127, 0.22484018],\n",
            "       [0.25118401, 0.2476046 , 0.2669715 , 0.23423989],\n",
            "       [0.21625321, 0.20932928, 0.29887039, 0.27554712],\n",
            "       [0.19976346, 0.21529027, 0.33693348, 0.24801279]]), 'lmbd': [3.7663019560902706272, 3.444813912935353637, 0.77030853572915119906, 0.7920502731755830932], 'zprob': array([0.7982495 , 0.78899103, 0.33443131, 0.35892014]), 'log_initProb': array([0.43283861, 0.41694343, 0.07789154, 0.07232642]), 'sigma': array([0.00018524, 0.00019677, 0.00024975, 0.00048855])}\n",
            "iteration:  7\n",
            "logliklihood:  -596385.75629667246733\n",
            "{'log_transition': array([[0.22374931, 0.23824929, 0.31323643, 0.22476497],\n",
            "       [0.23121015, 0.2316276 , 0.30735547, 0.22980678],\n",
            "       [0.2062194 , 0.20417558, 0.3325623 , 0.25704272],\n",
            "       [0.19700705, 0.20648546, 0.35376607, 0.24274141]]), 'lmbd': [3.9810596389260823466, 3.67017660319249169, 0.8098524537066272401, 0.8497284925354433786], 'zprob': array([0.81007603, 0.80295905, 0.34279754, 0.39554842]), 'log_initProb': array([0.42320252, 0.41172034, 0.08255029, 0.08252685]), 'sigma': array([0.0001863 , 0.00019688, 0.00023738, 0.0005101 ])}\n",
            "iteration:  8\n",
            "logliklihood:  -579587.82320749438134\n",
            "{'log_transition': array([[0.21313301, 0.22133301, 0.34356953, 0.22196445],\n",
            "       [0.21659347, 0.21816929, 0.34060479, 0.22463244],\n",
            "       [0.19841063, 0.19838328, 0.36037559, 0.24283049],\n",
            "       [0.19330162, 0.19929879, 0.37201968, 0.2353799 ]]), 'lmbd': [4.2095123403834601703, 3.9043331249291136802, 0.83694484091280763077, 0.90425144810265964683], 'zprob': array([0.81952998, 0.81352403, 0.34809596, 0.43273299]), 'log_initProb': array([0.41386529, 0.40533229, 0.0867124 , 0.09409002]), 'sigma': array([0.00018906, 0.00019892, 0.00023045, 0.00053064])}\n",
            "iteration:  9\n",
            "logliklihood:  -561841.43627424036276\n",
            "{'log_transition': array([[0.20432689, 0.2093487 , 0.36919609, 0.21712832],\n",
            "       [0.20591848, 0.2077862 , 0.36776373, 0.2185316 ],\n",
            "       [0.19240093, 0.19327534, 0.38351063, 0.23081309],\n",
            "       [0.18967466, 0.1937603 , 0.38960246, 0.22696259]]), 'lmbd': [4.4467849667293961467, 4.1447914925656517476, 0.85275902279945117344, 0.9596832268155483964], 'zprob': array([0.82653053, 0.82100148, 0.35083798, 0.46922768]), 'log_initProb': array([0.40526677, 0.39867629, 0.0896855 , 0.10637143]), 'sigma': array([0.00019306, 0.00020235, 0.00022725, 0.00055116])}\n"
          ],
          "name": "stdout"
        }
      ]
    },
    {
      "cell_type": "markdown",
      "metadata": {
        "id": "pqgRMxs5F6oc",
        "colab_type": "text"
      },
      "source": [
        "## plotting logliklihood for 4 regimes"
      ]
    },
    {
      "cell_type": "code",
      "metadata": {
        "id": "gvTODlDHqPil",
        "colab_type": "code",
        "outputId": "c93a6ad5-7550-4170-ccc4-4513d29224a3",
        "colab": {
          "base_uri": "https://localhost:8080/",
          "height": 298
        }
      },
      "source": [
        "\n",
        "plt.plot(loglike[1:])\n",
        "plt.xlabel(\"iterations\")\n",
        "plt.ylabel(\"log liklihood\")"
      ],
      "execution_count": 0,
      "outputs": [
        {
          "output_type": "execute_result",
          "data": {
            "text/plain": [
              "Text(0, 0.5, 'log liklihood')"
            ]
          },
          "metadata": {
            "tags": []
          },
          "execution_count": 212
        },
        {
          "output_type": "display_data",
          "data": {
            "image/png": "[encoded data removed]",
            "text/plain": [
              "<Figure size 432x288 with 1 Axes>"
            ]
          },
          "metadata": {
            "tags": [],
            "needs_background": "light"
          }
        }
      ]
    }
  ]
}